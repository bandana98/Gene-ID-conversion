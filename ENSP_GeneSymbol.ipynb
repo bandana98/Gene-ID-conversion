{
  "nbformat": 4,
  "nbformat_minor": 0,
  "metadata": {
    "colab": {
      "name": "ENSP_GeneSymbol.ipynb",
      "provenance": [],
      "collapsed_sections": []
    },
    "kernelspec": {
      "name": "python3",
      "display_name": "Python 3"
    },
    "language_info": {
      "name": "python"
    }
  },
  "cells": [
    {
      "cell_type": "code",
      "metadata": {
        "id": "c9jmZ4ufesNW"
      },
      "source": [
        "pip install bioservices"
      ],
      "execution_count": null,
      "outputs": []
    },
    {
      "cell_type": "code",
      "metadata": {
        "id": "qEMzOg4WfQzO"
      },
      "source": [
        "from bioservices import *\n",
        "s = BioDBNet()"
      ],
      "execution_count": null,
      "outputs": []
    },
    {
      "cell_type": "code",
      "metadata": {
        "id": "wCn89qVffQ3H"
      },
      "source": [
        "from bioservices import BioDBNet\n",
        "input_db = 'Ensembl Protein ID'\n",
        "output_db = ['Gene Symbol']\n",
        "input_values = ['ENSP00000233535', 'ENSP00000235329']\n",
        "df = s.db2db(input_db, output_db, input_values, 9606)"
      ],
      "execution_count": null,
      "outputs": []
    },
    {
      "cell_type": "code",
      "metadata": {
        "id": "9kYcaAngfQ9Y"
      },
      "source": [
        "df.to_csv('ENSP_GeneSymbol.csv')"
      ],
      "execution_count": null,
      "outputs": []
    }
  ]
}