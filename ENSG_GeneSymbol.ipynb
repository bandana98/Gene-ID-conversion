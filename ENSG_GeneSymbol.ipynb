{
  "nbformat": 4,
  "nbformat_minor": 0,
  "metadata": {
    "colab": {
      "name": "ENSG_GeneSymbol.ipynb",
      "provenance": [],
      "collapsed_sections": []
    },
    "kernelspec": {
      "name": "python3",
      "display_name": "Python 3"
    },
    "language_info": {
      "name": "python"
    }
  },
  "cells": [
    {
      "cell_type": "code",
      "metadata": {
        "id": "boAMTWxOekj5"
      },
      "source": [
        "pip install bioservices"
      ],
      "execution_count": null,
      "outputs": []
    },
    {
      "cell_type": "code",
      "metadata": {
        "id": "tlzfL1wFe_R9"
      },
      "source": [
        "from bioservices import *\n",
        "s = BioDBNet()"
      ],
      "execution_count": null,
      "outputs": []
    },
    {
      "cell_type": "code",
      "metadata": {
        "id": "vfk59C4Xe_W1"
      },
      "source": [
        "from bioservices import BioDBNet\n",
        "input_db = 'Ensembl Gene ID'\n",
        "output_db = ['Gene Symbol']\n",
        "input_values = ['ENSG00000121410', 'ENSG00000171428']\n",
        "df = s.db2db(input_db, output_db, input_values, 9606)"
      ],
      "execution_count": null,
      "outputs": []
    },
    {
      "cell_type": "code",
      "metadata": {
        "id": "H80Fmyg9fGt9"
      },
      "source": [
        "df.to_csv('ENSG_GeneSymbol.csv')"
      ],
      "execution_count": null,
      "outputs": []
    }
  ]
}